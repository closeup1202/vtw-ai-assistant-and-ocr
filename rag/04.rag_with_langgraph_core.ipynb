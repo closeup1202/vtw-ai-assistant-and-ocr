{
 "cells": [
  {
   "cell_type": "code",
   "execution_count": 3,
   "metadata": {},
   "outputs": [
    {
     "name": "stdout",
     "output_type": "stream",
     "text": [
      "datasource='own-generating'\n",
      "datasource='vectorstore'\n"
     ]
    }
   ],
   "source": [
    "from typing import Literal, Annotated, Sequence, TypedDict\n",
    "from typing_extensions import Annotated, TypedDict\n",
    "from langchain_core.pydantic_v1 import BaseModel, Field\n",
    "from langgraph.graph import START, END, StateGraph\n",
    "from langgraph.prebuilt import ToolNode\n",
    "from langchain_core.messages import BaseMessage, HumanMessage\n",
    "from langgraph.graph.message import add_messages\n",
    "from langchain.schema import SystemMessage\n",
    "from langchain_core.prompts import ChatPromptTemplate, MessagesPlaceholder, PromptTemplate\n",
    "from dotenv import load_dotenv\n",
    "from langchain.tools.retriever import create_retriever_tool\n",
    "from langchain_pinecone import PineconeVectorStore\n",
    "from langchain_core.output_parsers import StrOutputParser\n",
    "from langchain_openai import ChatOpenAI, OpenAIEmbeddings\n",
    "\n",
    "load_dotenv()\n",
    "llm = ChatOpenAI(model=\"gpt-4o-mini\")\n",
    "database = PineconeVectorStore.from_existing_index(\n",
    "  index_name=\"vtw-pdf-openai\", \n",
    "  embedding=OpenAIEmbeddings(model=\"text-embedding-3-large\"),\n",
    ")\n",
    "retriever = database.as_retriever()\n",
    "\n",
    "class RouteQuery(BaseModel):\n",
    "    datasource: Literal[\"vectorstore\", \"own-generating\"] = Field(\n",
    "        ...,\n",
    "        description=\"Given a user question choose to route it to own-generating or a vectorstore.\",\n",
    "    )\n",
    "\n",
    "structured_llm_router = llm.with_structured_output(RouteQuery)\n",
    "\n",
    "system = \"\"\"You are an expert at routing a user question to a vectorstore or not\n",
    "The vectorstore contains documents related to IT company VTW.\n",
    "If there are questions about 'VTW', '브띠따', '브이티더블유', Use the vectorstore for questions.\"\"\"\n",
    "route_prompt = ChatPromptTemplate.from_messages(\n",
    "    [\n",
    "        (\"system\", system),\n",
    "        (\"human\", \"{question}\"),\n",
    "    ]\n",
    ")\n",
    "\n",
    "test = route_prompt | structured_llm_router\n",
    "\n",
    "print(test.invoke(\"안녕하세요\"))\n",
    "print(test.invoke(\"VTW는 어떤 회사입니까?\"))\n"
   ]
  }
 ],
 "metadata": {
  "kernelspec": {
   "display_name": "ENV",
   "language": "python",
   "name": "python3"
  },
  "language_info": {
   "codemirror_mode": {
    "name": "ipython",
    "version": 3
   },
   "file_extension": ".py",
   "mimetype": "text/x-python",
   "name": "python",
   "nbconvert_exporter": "python",
   "pygments_lexer": "ipython3",
   "version": "3.12.4"
  }
 },
 "nbformat": 4,
 "nbformat_minor": 2
}
